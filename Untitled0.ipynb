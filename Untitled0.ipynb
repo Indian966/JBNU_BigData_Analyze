{
  "nbformat": 4,
  "nbformat_minor": 0,
  "metadata": {
    "colab": {
      "name": "Untitled0.ipynb",
      "provenance": [],
      "collapsed_sections": [],
      "authorship_tag": "ABX9TyO/Rb6v5Fqk2q8zjDiFJkZc",
      "include_colab_link": true
    },
    "kernelspec": {
      "name": "python3",
      "display_name": "Python 3"
    },
    "language_info": {
      "name": "python"
    }
  },
  "cells": [
    {
      "cell_type": "markdown",
      "metadata": {
        "id": "view-in-github",
        "colab_type": "text"
      },
      "source": [
        "<a href=\"https://colab.research.google.com/github/Indian966/JBNU_BigData_Analyze/blob/master/Untitled0.ipynb\" target=\"_parent\"><img src=\"https://colab.research.google.com/assets/colab-badge.svg\" alt=\"Open In Colab\"/></a>"
      ]
    },
    {
      "cell_type": "code",
      "metadata": {
        "colab": {
          "base_uri": "https://localhost:8080/"
        },
        "id": "tPoCpWptdxNW",
        "outputId": "f5f6056e-b585-48e1-a653-54ede9999ee0"
      },
      "source": [
        "import pandas as pd\n",
        "import matplotlib.pyplot as plt\n",
        "import seaborn as sns\n",
        "import warnings\n",
        "import statsmodels.api as sm"
      ],
      "execution_count": null,
      "outputs": [
        {
          "output_type": "stream",
          "name": "stderr",
          "text": [
            "/usr/local/lib/python3.7/dist-packages/statsmodels/tools/_testing.py:19: FutureWarning: pandas.util.testing is deprecated. Use the functions in the public API at pandas.testing instead.\n",
            "  import pandas.util.testing as tm\n"
          ]
        }
      ]
    },
    {
      "cell_type": "code",
      "metadata": {
        "colab": {
          "base_uri": "https://localhost:8080/",
          "height": 204
        },
        "id": "KhLrZdBOeMhG",
        "outputId": "0716c938-ab79-4f9f-d35b-e14eaab1f8be"
      },
      "source": [
        "health_data = pd.read_csv('/content/LISTLY_TRIAL_20211007.CSV', sep = ';',header = 0, engine = 'python', encoding='euc-kr')\n",
        "health_data.head()"
      ],
      "execution_count": null,
      "outputs": [
        {
          "output_type": "execute_result",
          "data": {
            "text/html": [
              "<div>\n",
              "<style scoped>\n",
              "    .dataframe tbody tr th:only-of-type {\n",
              "        vertical-align: middle;\n",
              "    }\n",
              "\n",
              "    .dataframe tbody tr th {\n",
              "        vertical-align: top;\n",
              "    }\n",
              "\n",
              "    .dataframe thead th {\n",
              "        text-align: right;\n",
              "    }\n",
              "</style>\n",
              "<table border=\"1\" class=\"dataframe\">\n",
              "  <thead>\n",
              "    <tr style=\"text-align: right;\">\n",
              "      <th></th>\n",
              "      <th>LABEL-1,HREF-1,LABEL-2,HREF-2,LABEL-3,HREF-3,LABEL-4,HREF-4,LABEL-5,HREF-5,LABEL-6,HREF-6</th>\n",
              "    </tr>\n",
              "  </thead>\n",
              "  <tbody>\n",
              "    <tr>\n",
              "      <th>0</th>\n",
              "      <td>https://i.ytimg.com/vi/e_QuW02wtyE/hqdefault.j...</td>\n",
              "    </tr>\n",
              "    <tr>\n",
              "      <th>1</th>\n",
              "      <td>https://i.ytimg.com/vi/2ZQGMrI6_BQ/hqdefault.j...</td>\n",
              "    </tr>\n",
              "    <tr>\n",
              "      <th>2</th>\n",
              "      <td>https://i.ytimg.com/vi/ouw-k66h3ks/hqdefault.j...</td>\n",
              "    </tr>\n",
              "    <tr>\n",
              "      <th>3</th>\n",
              "      <td>https://i.ytimg.com/vi/ULEAIvLg8bQ/hqdefault.j...</td>\n",
              "    </tr>\n",
              "    <tr>\n",
              "      <th>4</th>\n",
              "      <td>https://i.ytimg.com/vi/ALyKHA824as/hqdefault.j...</td>\n",
              "    </tr>\n",
              "  </tbody>\n",
              "</table>\n",
              "</div>"
            ],
            "text/plain": [
              "  LABEL-1,HREF-1,LABEL-2,HREF-2,LABEL-3,HREF-3,LABEL-4,HREF-4,LABEL-5,HREF-5,LABEL-6,HREF-6\n",
              "0  https://i.ytimg.com/vi/e_QuW02wtyE/hqdefault.j...                                       \n",
              "1  https://i.ytimg.com/vi/2ZQGMrI6_BQ/hqdefault.j...                                       \n",
              "2  https://i.ytimg.com/vi/ouw-k66h3ks/hqdefault.j...                                       \n",
              "3  https://i.ytimg.com/vi/ULEAIvLg8bQ/hqdefault.j...                                       \n",
              "4  https://i.ytimg.com/vi/ALyKHA824as/hqdefault.j...                                       "
            ]
          },
          "metadata": {},
          "execution_count": 24
        }
      ]
    },
    {
      "cell_type": "code",
      "metadata": {
        "colab": {
          "base_uri": "https://localhost:8080/",
          "height": 391
        },
        "id": "2yEzJB0noeYl",
        "outputId": "4598f06c-3c66-45fe-ce15-20faf59d39ba"
      },
      "source": [
        "food_data = pd.read_csv('/content/food_data.csv', sep = ',', header = 0, engine='python', encoding='cp949')\n",
        "food_data.head()"
      ],
      "execution_count": null,
      "outputs": [
        {
          "output_type": "execute_result",
          "data": {
            "text/html": [
              "<div>\n",
              "<style scoped>\n",
              "    .dataframe tbody tr th:only-of-type {\n",
              "        vertical-align: middle;\n",
              "    }\n",
              "\n",
              "    .dataframe tbody tr th {\n",
              "        vertical-align: top;\n",
              "    }\n",
              "\n",
              "    .dataframe thead th {\n",
              "        text-align: right;\n",
              "    }\n",
              "</style>\n",
              "<table border=\"1\" class=\"dataframe\">\n",
              "  <thead>\n",
              "    <tr style=\"text-align: right;\">\n",
              "      <th></th>\n",
              "      <th>LABEL-1</th>\n",
              "      <th>LABEL-2</th>\n",
              "      <th>LABEL-3</th>\n",
              "      <th>LABEL-4</th>\n",
              "      <th>LABEL-5</th>\n",
              "      <th>category_id</th>\n",
              "      <th>views</th>\n",
              "      <th>likes</th>\n",
              "      <th>dislikes</th>\n",
              "    </tr>\n",
              "  </thead>\n",
              "  <tbody>\n",
              "    <tr>\n",
              "      <th>0</th>\n",
              "      <td>lhPMDwIbEgY</td>\n",
              "      <td>0</td>\n",
              "      <td>ASMR MUKBANG | 직접 만든 오징어게임 달고나 먹방 SQUID GAME H...</td>\n",
              "      <td>조회수 356만회</td>\n",
              "      <td>1일 전</td>\n",
              "      <td>22</td>\n",
              "      <td>3756941</td>\n",
              "      <td>67331</td>\n",
              "      <td>3805</td>\n",
              "    </tr>\n",
              "    <tr>\n",
              "      <th>1</th>\n",
              "      <td>MfCbRO07zyY</td>\n",
              "      <td>0</td>\n",
              "      <td>ASMR MUKBANG | 직접 만든 해물찜 대왕 킹크랩 문어 팽이 버섯 먹방 &amp; ...</td>\n",
              "      <td>조회수 219만회</td>\n",
              "      <td>4일 전</td>\n",
              "      <td>22</td>\n",
              "      <td>2222761</td>\n",
              "      <td>49436</td>\n",
              "      <td>3078</td>\n",
              "    </tr>\n",
              "    <tr>\n",
              "      <th>2</th>\n",
              "      <td>vDOhmrngDJE</td>\n",
              "      <td>0</td>\n",
              "      <td>ASMR MUKBANG | 직접 만든 치즈 불닭볶음면 양념치킨 김밥 치즈스틱 먹방 ...</td>\n",
              "      <td>조회수 196만회</td>\n",
              "      <td>6일 전</td>\n",
              "      <td>22</td>\n",
              "      <td>1988490</td>\n",
              "      <td>48947</td>\n",
              "      <td>2798</td>\n",
              "    </tr>\n",
              "    <tr>\n",
              "      <th>3</th>\n",
              "      <td>eEJC7LZyoOU</td>\n",
              "      <td>0</td>\n",
              "      <td>ASMR MUKBANG | 편의점 퍼플 디저트 먹방 보라색 아이스크림 초콜릿 &amp; P...</td>\n",
              "      <td>조회수 129만회</td>\n",
              "      <td>1주 전</td>\n",
              "      <td>22</td>\n",
              "      <td>1302560</td>\n",
              "      <td>31215</td>\n",
              "      <td>2081</td>\n",
              "    </tr>\n",
              "    <tr>\n",
              "      <th>4</th>\n",
              "      <td>LDwrMVC7viM</td>\n",
              "      <td>0</td>\n",
              "      <td>MUKBANG | 직접 만든 돼지 김치 찌개 레시피 &amp; 라면, 계란말이, 스팸 먹방...</td>\n",
              "      <td>조회수 87만회</td>\n",
              "      <td>1주 전</td>\n",
              "      <td>22</td>\n",
              "      <td>874964</td>\n",
              "      <td>29827</td>\n",
              "      <td>1324</td>\n",
              "    </tr>\n",
              "  </tbody>\n",
              "</table>\n",
              "</div>"
            ],
            "text/plain": [
              "       LABEL-1 LABEL-2  ...   likes dislikes\n",
              "0  lhPMDwIbEgY      0   ...  67331     3805 \n",
              "1  MfCbRO07zyY      0   ...  49436     3078 \n",
              "2  vDOhmrngDJE      0   ...  48947     2798 \n",
              "3  eEJC7LZyoOU      0   ...  31215     2081 \n",
              "4  LDwrMVC7viM      0   ...  29827     1324 \n",
              "\n",
              "[5 rows x 9 columns]"
            ]
          },
          "metadata": {},
          "execution_count": 67
        }
      ]
    },
    {
      "cell_type": "code",
      "metadata": {
        "colab": {
          "base_uri": "https://localhost:8080/"
        },
        "id": "OwOs3fCgw4Ud",
        "outputId": "ac226497-2d8f-4766-ff0a-025c1d479366"
      },
      "source": [
        "food_data.info()"
      ],
      "execution_count": null,
      "outputs": [
        {
          "output_type": "stream",
          "name": "stdout",
          "text": [
            "<class 'pandas.core.frame.DataFrame'>\n",
            "RangeIndex: 392 entries, 0 to 391\n",
            "Data columns (total 9 columns):\n",
            " #   Column       Non-Null Count  Dtype \n",
            "---  ------       --------------  ----- \n",
            " 0   LABEL-1      392 non-null    object\n",
            " 1   LABEL-2      392 non-null    object\n",
            " 2   LABEL-3      392 non-null    object\n",
            " 3   LABEL-4      392 non-null    object\n",
            " 4   LABEL-5      384 non-null    object\n",
            " 5   category_id  392 non-null    object\n",
            " 6   views        392 non-null    object\n",
            " 7   likes        392 non-null    object\n",
            " 8   dislikes     392 non-null    object\n",
            "dtypes: object(9)\n",
            "memory usage: 27.7+ KB\n"
          ]
        }
      ]
    },
    {
      "cell_type": "code",
      "metadata": {
        "colab": {
          "base_uri": "https://localhost:8080/",
          "height": 224
        },
        "id": "OOaxOt2yunBy",
        "outputId": "a4c62f2a-d6b9-4091-ee95-06d618c33074"
      },
      "source": [
        "food_data.describe()"
      ],
      "execution_count": null,
      "outputs": [
        {
          "output_type": "execute_result",
          "data": {
            "text/html": [
              "<div>\n",
              "<style scoped>\n",
              "    .dataframe tbody tr th:only-of-type {\n",
              "        vertical-align: middle;\n",
              "    }\n",
              "\n",
              "    .dataframe tbody tr th {\n",
              "        vertical-align: top;\n",
              "    }\n",
              "\n",
              "    .dataframe thead th {\n",
              "        text-align: right;\n",
              "    }\n",
              "</style>\n",
              "<table border=\"1\" class=\"dataframe\">\n",
              "  <thead>\n",
              "    <tr style=\"text-align: right;\">\n",
              "      <th></th>\n",
              "      <th>LABEL-1</th>\n",
              "      <th>LABEL-2</th>\n",
              "      <th>LABEL-3</th>\n",
              "      <th>LABEL-4</th>\n",
              "      <th>LABEL-5</th>\n",
              "      <th>category_id</th>\n",
              "      <th>views</th>\n",
              "      <th>likes</th>\n",
              "      <th>dislikes</th>\n",
              "    </tr>\n",
              "  </thead>\n",
              "  <tbody>\n",
              "    <tr>\n",
              "      <th>count</th>\n",
              "      <td>392</td>\n",
              "      <td>392</td>\n",
              "      <td>392</td>\n",
              "      <td>392</td>\n",
              "      <td>384</td>\n",
              "      <td>392</td>\n",
              "      <td>392</td>\n",
              "      <td>392</td>\n",
              "      <td>392</td>\n",
              "    </tr>\n",
              "    <tr>\n",
              "      <th>unique</th>\n",
              "      <td>388</td>\n",
              "      <td>4</td>\n",
              "      <td>391</td>\n",
              "      <td>181</td>\n",
              "      <td>20</td>\n",
              "      <td>5</td>\n",
              "      <td>391</td>\n",
              "      <td>380</td>\n",
              "      <td>276</td>\n",
              "    </tr>\n",
              "    <tr>\n",
              "      <th>top</th>\n",
              "      <td>#NAME?</td>\n",
              "      <td>0</td>\n",
              "      <td>엽떡 크림맛이 나왔데요??   20211006 /Mukbang, eating show</td>\n",
              "      <td>조회수 10만회</td>\n",
              "      <td>1주 전</td>\n",
              "      <td>22</td>\n",
              "      <td>-</td>\n",
              "      <td>87</td>\n",
              "      <td>13</td>\n",
              "    </tr>\n",
              "    <tr>\n",
              "      <th>freq</th>\n",
              "      <td>5</td>\n",
              "      <td>236</td>\n",
              "      <td>2</td>\n",
              "      <td>13</td>\n",
              "      <td>94</td>\n",
              "      <td>146</td>\n",
              "      <td>2</td>\n",
              "      <td>3</td>\n",
              "      <td>7</td>\n",
              "    </tr>\n",
              "  </tbody>\n",
              "</table>\n",
              "</div>"
            ],
            "text/plain": [
              "       LABEL-1 LABEL-2  ... likes dislikes\n",
              "count      392     392  ...   392      392\n",
              "unique     388       4  ...   380      276\n",
              "top     #NAME?      0   ...   87       13 \n",
              "freq         5     236  ...     3        7\n",
              "\n",
              "[4 rows x 9 columns]"
            ]
          },
          "metadata": {},
          "execution_count": 69
        }
      ]
    },
    {
      "cell_type": "code",
      "metadata": {
        "colab": {
          "base_uri": "https://localhost:8080/"
        },
        "id": "D_9OUyCl6T1G",
        "outputId": "e1377c35-f51d-43dc-9521-faf01bc87141"
      },
      "source": [
        "sorted(food_data.views.unique())\n",
        "food_data.views.value_counts()"
      ],
      "execution_count": null,
      "outputs": [
        {
          "output_type": "execute_result",
          "data": {
            "text/plain": [
              "-           2\n",
              "2102739     1\n",
              "1175135     1\n",
              "171428      1\n",
              "46223       1\n",
              "           ..\n",
              "2075275     1\n",
              "210697      1\n",
              "188482      1\n",
              "254660      1\n",
              "271242      1\n",
              "Name: views, Length: 391, dtype: int64"
            ]
          },
          "metadata": {},
          "execution_count": 70
        }
      ]
    },
    {
      "cell_type": "code",
      "metadata": {
        "colab": {
          "base_uri": "https://localhost:8080/",
          "height": 394
        },
        "id": "OokrjkJd6535",
        "outputId": "eaab6e52-2db9-48e4-f0cd-38451221be5c"
      },
      "source": [
        "from scipy import stats\n",
        "from statsmodels.formula.api import ols, glm\n",
        "\n",
        "food_views = food_data.loc[:,'views']\n",
        "food_likes = food_data.loc[:,'likes']\n",
        "\n",
        "stats.ttest_ind(food_views, food_likes, equal_var = False)"
      ],
      "execution_count": null,
      "outputs": [
        {
          "output_type": "error",
          "ename": "TypeError",
          "evalue": "ignored",
          "traceback": [
            "\u001b[0;31m---------------------------------------------------------------------------\u001b[0m",
            "\u001b[0;31mTypeError\u001b[0m                                 Traceback (most recent call last)",
            "\u001b[0;32m<ipython-input-71-c662f67bd774>\u001b[0m in \u001b[0;36m<module>\u001b[0;34m()\u001b[0m\n\u001b[1;32m      5\u001b[0m \u001b[0mfood_likes\u001b[0m \u001b[0;34m=\u001b[0m \u001b[0mfood_data\u001b[0m\u001b[0;34m.\u001b[0m\u001b[0mloc\u001b[0m\u001b[0;34m[\u001b[0m\u001b[0;34m:\u001b[0m\u001b[0;34m,\u001b[0m\u001b[0;34m'likes'\u001b[0m\u001b[0;34m]\u001b[0m\u001b[0;34m\u001b[0m\u001b[0;34m\u001b[0m\u001b[0m\n\u001b[1;32m      6\u001b[0m \u001b[0;34m\u001b[0m\u001b[0m\n\u001b[0;32m----> 7\u001b[0;31m \u001b[0mstats\u001b[0m\u001b[0;34m.\u001b[0m\u001b[0mttest_ind\u001b[0m\u001b[0;34m(\u001b[0m\u001b[0mfood_views\u001b[0m\u001b[0;34m,\u001b[0m \u001b[0mfood_likes\u001b[0m\u001b[0;34m,\u001b[0m \u001b[0mequal_var\u001b[0m \u001b[0;34m=\u001b[0m \u001b[0;32mFalse\u001b[0m\u001b[0;34m)\u001b[0m\u001b[0;34m\u001b[0m\u001b[0;34m\u001b[0m\u001b[0m\n\u001b[0m",
            "\u001b[0;32m/usr/local/lib/python3.7/dist-packages/scipy/stats/stats.py\u001b[0m in \u001b[0;36mttest_ind\u001b[0;34m(a, b, axis, equal_var, nan_policy)\u001b[0m\n\u001b[1;32m   5252\u001b[0m         \u001b[0;32mreturn\u001b[0m \u001b[0mTtest_indResult\u001b[0m\u001b[0;34m(\u001b[0m\u001b[0mnp\u001b[0m\u001b[0;34m.\u001b[0m\u001b[0mnan\u001b[0m\u001b[0;34m,\u001b[0m \u001b[0mnp\u001b[0m\u001b[0;34m.\u001b[0m\u001b[0mnan\u001b[0m\u001b[0;34m)\u001b[0m\u001b[0;34m\u001b[0m\u001b[0;34m\u001b[0m\u001b[0m\n\u001b[1;32m   5253\u001b[0m \u001b[0;34m\u001b[0m\u001b[0m\n\u001b[0;32m-> 5254\u001b[0;31m     \u001b[0mv1\u001b[0m \u001b[0;34m=\u001b[0m \u001b[0mnp\u001b[0m\u001b[0;34m.\u001b[0m\u001b[0mvar\u001b[0m\u001b[0;34m(\u001b[0m\u001b[0ma\u001b[0m\u001b[0;34m,\u001b[0m \u001b[0maxis\u001b[0m\u001b[0;34m,\u001b[0m \u001b[0mddof\u001b[0m\u001b[0;34m=\u001b[0m\u001b[0;36m1\u001b[0m\u001b[0;34m)\u001b[0m\u001b[0;34m\u001b[0m\u001b[0;34m\u001b[0m\u001b[0m\n\u001b[0m\u001b[1;32m   5255\u001b[0m     \u001b[0mv2\u001b[0m \u001b[0;34m=\u001b[0m \u001b[0mnp\u001b[0m\u001b[0;34m.\u001b[0m\u001b[0mvar\u001b[0m\u001b[0;34m(\u001b[0m\u001b[0mb\u001b[0m\u001b[0;34m,\u001b[0m \u001b[0maxis\u001b[0m\u001b[0;34m,\u001b[0m \u001b[0mddof\u001b[0m\u001b[0;34m=\u001b[0m\u001b[0;36m1\u001b[0m\u001b[0;34m)\u001b[0m\u001b[0;34m\u001b[0m\u001b[0;34m\u001b[0m\u001b[0m\n\u001b[1;32m   5256\u001b[0m     \u001b[0mn1\u001b[0m \u001b[0;34m=\u001b[0m \u001b[0ma\u001b[0m\u001b[0;34m.\u001b[0m\u001b[0mshape\u001b[0m\u001b[0;34m[\u001b[0m\u001b[0maxis\u001b[0m\u001b[0;34m]\u001b[0m\u001b[0;34m\u001b[0m\u001b[0;34m\u001b[0m\u001b[0m\n",
            "\u001b[0;32m<__array_function__ internals>\u001b[0m in \u001b[0;36mvar\u001b[0;34m(*args, **kwargs)\u001b[0m\n",
            "\u001b[0;32m/usr/local/lib/python3.7/dist-packages/numpy/core/fromnumeric.py\u001b[0m in \u001b[0;36mvar\u001b[0;34m(a, axis, dtype, out, ddof, keepdims)\u001b[0m\n\u001b[1;32m   3620\u001b[0m \u001b[0;34m\u001b[0m\u001b[0m\n\u001b[1;32m   3621\u001b[0m     return _methods._var(a, axis=axis, dtype=dtype, out=out, ddof=ddof,\n\u001b[0;32m-> 3622\u001b[0;31m                          **kwargs)\n\u001b[0m\u001b[1;32m   3623\u001b[0m \u001b[0;34m\u001b[0m\u001b[0m\n\u001b[1;32m   3624\u001b[0m \u001b[0;34m\u001b[0m\u001b[0m\n",
            "\u001b[0;32m/usr/local/lib/python3.7/dist-packages/numpy/core/_methods.py\u001b[0m in \u001b[0;36m_var\u001b[0;34m(a, axis, dtype, out, ddof, keepdims)\u001b[0m\n\u001b[1;32m    193\u001b[0m     \u001b[0;32mif\u001b[0m \u001b[0misinstance\u001b[0m\u001b[0;34m(\u001b[0m\u001b[0marrmean\u001b[0m\u001b[0;34m,\u001b[0m \u001b[0mmu\u001b[0m\u001b[0;34m.\u001b[0m\u001b[0mndarray\u001b[0m\u001b[0;34m)\u001b[0m\u001b[0;34m:\u001b[0m\u001b[0;34m\u001b[0m\u001b[0;34m\u001b[0m\u001b[0m\n\u001b[1;32m    194\u001b[0m         arrmean = um.true_divide(\n\u001b[0;32m--> 195\u001b[0;31m                 arrmean, rcount, out=arrmean, casting='unsafe', subok=False)\n\u001b[0m\u001b[1;32m    196\u001b[0m     \u001b[0;32melse\u001b[0m\u001b[0;34m:\u001b[0m\u001b[0;34m\u001b[0m\u001b[0;34m\u001b[0m\u001b[0m\n\u001b[1;32m    197\u001b[0m         \u001b[0marrmean\u001b[0m \u001b[0;34m=\u001b[0m \u001b[0marrmean\u001b[0m\u001b[0;34m.\u001b[0m\u001b[0mdtype\u001b[0m\u001b[0;34m.\u001b[0m\u001b[0mtype\u001b[0m\u001b[0;34m(\u001b[0m\u001b[0marrmean\u001b[0m \u001b[0;34m/\u001b[0m \u001b[0mrcount\u001b[0m\u001b[0;34m)\u001b[0m\u001b[0;34m\u001b[0m\u001b[0;34m\u001b[0m\u001b[0m\n",
            "\u001b[0;31mTypeError\u001b[0m: unsupported operand type(s) for /: 'str' and 'int'"
          ]
        }
      ]
    }
  ]
}
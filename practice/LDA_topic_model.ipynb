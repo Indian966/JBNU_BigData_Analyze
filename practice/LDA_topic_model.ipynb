{
  "nbformat": 4,
  "nbformat_minor": 0,
  "metadata": {
    "colab": {
      "name": "LDA_topic_model.ipynb",
      "provenance": [],
      "authorship_tag": "ABX9TyPZ4lQWpbeK6OJYwUuAM5nV",
      "include_colab_link": true
    },
    "kernelspec": {
      "name": "python3",
      "display_name": "Python 3"
    },
    "language_info": {
      "name": "python"
    }
  },
  "cells": [
    {
      "cell_type": "markdown",
      "metadata": {
        "id": "view-in-github",
        "colab_type": "text"
      },
      "source": [
        "<a href=\"https://colab.research.google.com/github/Indian966/JBNU_BigData_Analyze/blob/master/LDA_topic_model.ipynb\" target=\"_parent\"><img src=\"https://colab.research.google.com/assets/colab-badge.svg\" alt=\"Open In Colab\"/></a>"
      ]
    },
    {
      "cell_type": "code",
      "metadata": {
        "id": "pBd8pE0WWoUV"
      },
      "source": [
        "import json\n",
        "import pandas as pd\n",
        "\n",
        "\n",
        "file_name = '코로나_naver_news'\n",
        "with open('/content/'+ file_name+'.json', encoding = 'utf8') as j_f:\n",
        "  data = json.load(j_f)"
      ],
      "execution_count": 7,
      "outputs": []
    },
    {
      "cell_type": "code",
      "metadata": {
        "id": "jNSDbeLZW_Fq"
      },
      "source": [
        "data_title = []\n",
        "data_description = []\n",
        "for item in data:\n",
        "  data_title.append(item['title'])\n",
        "  data_description.append(item['description'])"
      ],
      "execution_count": 9,
      "outputs": []
    },
    {
      "cell_type": "code",
      "metadata": {
        "colab": {
          "base_uri": "https://localhost:8080/",
          "height": 136
        },
        "id": "SBMvL7hgXCp2",
        "outputId": "c12a4f7b-a35b-4fc8-9973-2e8ea8609a0e"
      },
      "source": [
        "data_df = pd.DataFrame({'title':data_title, 'description':data_ description})"
      ],
      "execution_count": 10,
      "outputs": [
        {
          "output_type": "error",
          "ename": "SyntaxError",
          "evalue": "ignored",
          "traceback": [
            "\u001b[0;36m  File \u001b[0;32m\"<ipython-input-10-4cfacdc00c69>\"\u001b[0;36m, line \u001b[0;32m1\u001b[0m\n\u001b[0;31m    data_df = pd.DataFrame({'title':data_title, 'description':data_ description})\u001b[0m\n\u001b[0m                                                                              ^\u001b[0m\n\u001b[0;31mSyntaxError\u001b[0m\u001b[0;31m:\u001b[0m invalid syntax\n"
          ]
        }
      ]
    },
    {
      "cell_type": "code",
      "metadata": {
        "colab": {
          "base_uri": "https://localhost:8080/",
          "height": 172
        },
        "id": "TglgOEfXWDwU",
        "outputId": "05ed7e55-e202-4ef0-e952-b17c76a2f748"
      },
      "source": [
        "description = data_df['description']"
      ],
      "execution_count": 1,
      "outputs": [
        {
          "output_type": "error",
          "ename": "NameError",
          "evalue": "ignored",
          "traceback": [
            "\u001b[0;31m---------------------------------------------------------------------------\u001b[0m",
            "\u001b[0;31mNameError\u001b[0m                                 Traceback (most recent call last)",
            "\u001b[0;32m<ipython-input-1-87b83a37fb0f>\u001b[0m in \u001b[0;36m<module>\u001b[0;34m()\u001b[0m\n\u001b[0;32m----> 1\u001b[0;31m \u001b[0mdescription\u001b[0m \u001b[0;34m=\u001b[0m \u001b[0mdata_df\u001b[0m\u001b[0;34m[\u001b[0m\u001b[0;34m'description'\u001b[0m\u001b[0;34m]\u001b[0m\u001b[0;34m\u001b[0m\u001b[0;34m\u001b[0m\u001b[0m\n\u001b[0m",
            "\u001b[0;31mNameError\u001b[0m: name 'data_df' is not defined"
          ]
        }
      ]
    },
    {
      "cell_type": "code",
      "metadata": {
        "id": "BbyUNF65WVdq"
      },
      "source": [
        "description_noun_tk = []\n",
        "for d in description:\n",
        "  description_noun_tk.append(okt.nouns(d)) "
      ],
      "execution_count": null,
      "outputs": []
    },
    {
      "cell_type": "code",
      "metadata": {
        "id": "sv-t_0k1WXeq"
      },
      "source": [
        "description_noun_tk2 = []\n",
        "for d in description_noun_tk:\n",
        "  item = [i for i in d if len(i) > 1] #토큰 길이가 1보다 큰 것만 추출\n",
        "  description_noun_tk2.append(item)"
      ],
      "execution_count": null,
      "outputs": []
    },
    {
      "cell_type": "code",
      "metadata": {
        "id": "o_-8pOlYWVaC"
      },
      "source": [
        "print(description_noun_tk2)"
      ],
      "execution_count": null,
      "outputs": []
    }
  ]
}